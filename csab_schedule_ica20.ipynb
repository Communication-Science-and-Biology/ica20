{
 "cells": [
  {
   "cell_type": "code",
   "execution_count": null,
   "metadata": {},
   "outputs": [],
   "source": [
    "# This notebook provides details the ICA20 CSaB conference schedule\n",
    "# We are pleased to announce:\n",
    "    # Four sessions\n",
    "    # One interactive poster session\n",
    "    # A business meeting\n",
    "\n",
    "# Follow ICA CSaB at: @ica_csab\n",
    "# Visit ICA CSaB on the web: https://commscience.org/"
   ]
  },
  {
   "cell_type": "code",
   "execution_count": null,
   "metadata": {},
   "outputs": [],
   "source": [
    "# Import Pandas\n",
    "import pandas as pd\n",
    "\n",
    "# Read in ICA schedule CSV - assumes file is in current working directory\n",
    "data = pd.read_csv('ica_schedule.csv', index_col = 'Session or Event Division/Interest Group')\n",
    "\n",
    "# Drop irrelevant columns\n",
    "#data = data.drop(['Session or Event Division/Interest Group','Session or Event Type','Session or Event Start Time','Session or Event End Time','Session or Event Location','Session or Event Details','Session or Event End Time','Session or Event Participants/Hosts','Submission or Placeholder Start Time','Submission or Placeholder End Time','Submission Status','Session Submission Sort Order','The Program Report was last updated May 12, 2020 at 01:17 AM EDT. To view the most recent meeting schedule online, visit https://ica2020.abstractcentral.com/planner.jsp'],axis=1)\n",
    "data = data.drop(['Session or Event Type','Session or Event Date','Session or Event Start Time','Session or Event End Time','Session or Event Location','Session or Event Details','Session or Event End Time','Session or Event Participants/Hosts','Submission or Placeholder Start Time','Submission or Placeholder End Time','Submission Status','Session Submission Sort Order','The Program Report was last updated May 12, 2020 at 01:17 AM EDT. To view the most recent meeting schedule online, visit https://ica2020.abstractcentral.com/planner.jsp'],axis=1)\n",
    "\n",
    "# Rename columns for readability\n",
    "data = data.rename(columns={'Session or Event Title':'Title','Submission or Placeholder Title':'Talk Title','Submission Authors':'Authors'})\n",
    "\n",
    "# Show entire cell content\n",
    "pd.set_option('display.max_colwidth', -1)"
   ]
  },
  {
   "cell_type": "code",
   "execution_count": null,
   "metadata": {},
   "outputs": [],
   "source": [
    "# Session Details: The Biology of Health, Fear, and Risk Perceptions\n",
    "session_one = data[data['Title'].str.contains('The Biology of Health, Fear, and Risk Perceptions')]\n",
    "session_one"
   ]
  },
  {
   "cell_type": "code",
   "execution_count": null,
   "metadata": {},
   "outputs": [],
   "source": [
    "# Session Details: Biologically-based Health Interventions and Their Effects on Behavior\n",
    "poster_session = data[data['Title'].str.contains('Biologically-based Health Interventions and Their Effects on Behavior')]\n",
    "poster_session"
   ]
  },
  {
   "cell_type": "code",
   "execution_count": null,
   "metadata": {},
   "outputs": [],
   "source": [
    "# Session Details: Foundations of Theory and Research in Communication Science and Biology\n",
    "session_two = data[data['Title'].str.contains('Foundations of Theory and Research in Communication Science and Biology')]\n",
    "session_two"
   ]
  },
  {
   "cell_type": "code",
   "execution_count": null,
   "metadata": {},
   "outputs": [],
   "source": [
    "# Session Details: Social, Cognitive, Affective, and Behavioral Communication Science\n",
    "session_three = data[data['Title'].str.contains('Social, Cognitive, Affective, and Behavioral Communication Science')]\n",
    "session_three"
   ]
  },
  {
   "cell_type": "code",
   "execution_count": null,
   "metadata": {},
   "outputs": [],
   "source": [
    "# Session Details: Poster Session\n",
    "session_six = data[data['Title'].str.contains('Communication Science and Biology Interactive Poster Session')]\n",
    "session_six"
   ]
  },
  {
   "cell_type": "code",
   "execution_count": null,
   "metadata": {},
   "outputs": [],
   "source": []
  }
 ],
 "metadata": {
  "kernelspec": {
   "display_name": "Python 3",
   "language": "python",
   "name": "python3"
  },
  "language_info": {
   "codemirror_mode": {
    "name": "ipython",
    "version": 3
   },
   "file_extension": ".py",
   "mimetype": "text/x-python",
   "name": "python",
   "nbconvert_exporter": "python",
   "pygments_lexer": "ipython3",
   "version": "3.7.5"
  }
 },
 "nbformat": 4,
 "nbformat_minor": 2
}
